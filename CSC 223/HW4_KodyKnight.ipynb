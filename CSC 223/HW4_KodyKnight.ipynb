{
 "cells": [
  {
   "cell_type": "markdown",
   "id": "8b19d007",
   "metadata": {},
   "source": [
    "- **Author**: Kody Knight\n",
    "- Major: Computer Science\n",
    "- **Creation Date**: 04/4\n",
    "- Due Date: 4/8\n",
    "- Course CSC223\n",
    "- Professor Name: Patrick Earl\n",
    "- Assignment: Project 4\n",
    "- Filename: Main.ipynb\n",
    "- Purpose: To demonstraight jupyter notebook knowledge and DataFrame knowledge"
   ]
  },
  {
   "cell_type": "code",
   "execution_count": 17,
   "id": "962bbd46",
   "metadata": {},
   "outputs": [],
   "source": [
    "#imports numpy and pandas\n",
    "import numpy as np\n",
    "import pandas as pd"
   ]
  },
  {
   "cell_type": "code",
   "execution_count": 18,
   "id": "d757db1c",
   "metadata": {},
   "outputs": [],
   "source": [
    "# Creates dataframe from file\n",
    "df = pd.read_csv('toycars.csv')"
   ]
  },
  {
   "cell_type": "code",
   "execution_count": 19,
   "id": "22060ab9",
   "metadata": {},
   "outputs": [],
   "source": [
    "# deletes usless column\n",
    "del df['Unnamed: 0']"
   ]
  },
  {
   "cell_type": "code",
   "execution_count": 20,
   "id": "69e44667",
   "metadata": {},
   "outputs": [],
   "source": [
    "# Head\n",
    "df = df.head(df.size)"
   ]
  },
  {
   "cell_type": "code",
   "execution_count": 21,
   "id": "33d62bb9",
   "metadata": {
    "scrolled": false
   },
   "outputs": [],
   "source": [
    "# creats Final dataframe (df)\n",
    "df2 = pd.DataFrame()"
   ]
  },
  {
   "cell_type": "code",
   "execution_count": 22,
   "id": "ccecc23a",
   "metadata": {},
   "outputs": [],
   "source": [
    "# Pulls out the angles\n",
    "Angle = []\n",
    "for x in range(np.size(df,0)):\n",
    "    if(x%3 == 0):\n",
    "        Angle.append(df['angle'][x])\n",
    "df2[\"Angle\"] = Angle"
   ]
  },
  {
   "cell_type": "code",
   "execution_count": 23,
   "id": "38fd87ae",
   "metadata": {},
   "outputs": [],
   "source": [
    "# Pulls out the distance of car 1\n",
    "Car_1 = []\n",
    "for x in range(np.size(df,0)):\n",
    "    if(df['car'][x] == 1):\n",
    "        Car_1.append(float(df[\"distance\"][x])*1000)\n",
    "df2[\"Car 1\"] = Car_1"
   ]
  },
  {
   "cell_type": "code",
   "execution_count": 24,
   "id": "afd21cc4",
   "metadata": {},
   "outputs": [],
   "source": [
    "# Pulls out the distance of car 2\n",
    "Car_2 = []\n",
    "for x in range(np.size(df,0)):\n",
    "    if(df['car'][x] == 2):\n",
    "        Car_2.append(float(df[\"distance\"][x])*1000)\n",
    "df2[\"Car 2\"] = Car_2"
   ]
  },
  {
   "cell_type": "code",
   "execution_count": 25,
   "id": "5b3521e6",
   "metadata": {},
   "outputs": [],
   "source": [
    "# Pulls out the distance of car 3\n",
    "Car_3 = []\n",
    "for x in range(np.size(df,0)):\n",
    "    if(df['car'][x] == 3):\n",
    "        Car_3.append(float(df[\"distance\"][x])*1000)\n",
    "df2[\"Car 3\"] = Car_3"
   ]
  },
  {
   "cell_type": "code",
   "execution_count": 26,
   "id": "1f089e91",
   "metadata": {},
   "outputs": [],
   "source": [
    "# Calculates the mean\n",
    "Mean = []\n",
    "for x in range(9):\n",
    "    total = 0\n",
    "    total = float(df2[\"Car 1\"][x]) + float(df2[\"Car 2\"][x]) + float(df2[\"Car 3\"][x])\n",
    "    Mean.append(total/3)\n",
    "df2[\"Mean\"] = Mean"
   ]
  },
  {
   "cell_type": "code",
   "execution_count": 27,
   "id": "cf780183",
   "metadata": {},
   "outputs": [],
   "source": [
    "# Calculates Standard Deviation\n",
    "Standard_Deviation = []\n",
    "for x in range(np.size(df2,0)):\n",
    "    SD = []\n",
    "    SD.append(float(df2[\"Car 1\"][x]))\n",
    "    SD.append(float(df2[\"Car 2\"][x]))\n",
    "    SD.append(float(df2[\"Car 3\"][x]))\n",
    "    Standard_Deviation.append(np.std(SD))\n",
    "df2[\"Standard Deviation\"] = Standard_Deviation"
   ]
  },
  {
   "cell_type": "code",
   "execution_count": 29,
   "id": "114cda50",
   "metadata": {
    "scrolled": true
   },
   "outputs": [],
   "source": [
    "# Organizes data by value\n",
    "df2 = df2.sort_values('Angle')"
   ]
  },
  {
   "cell_type": "code",
   "execution_count": 30,
   "id": "a446ec74",
   "metadata": {},
   "outputs": [
    {
     "data": {
      "text/html": [
       "<div>\n",
       "<style scoped>\n",
       "    .dataframe tbody tr th:only-of-type {\n",
       "        vertical-align: middle;\n",
       "    }\n",
       "\n",
       "    .dataframe tbody tr th {\n",
       "        vertical-align: top;\n",
       "    }\n",
       "\n",
       "    .dataframe thead th {\n",
       "        text-align: right;\n",
       "    }\n",
       "</style>\n",
       "<table border=\"1\" class=\"dataframe\">\n",
       "  <thead>\n",
       "    <tr style=\"text-align: right;\">\n",
       "      <th></th>\n",
       "      <th>Car 1</th>\n",
       "      <th>Car 2</th>\n",
       "      <th>Car 3</th>\n",
       "      <th>Mean</th>\n",
       "      <th>Standard Deviation</th>\n",
       "    </tr>\n",
       "    <tr>\n",
       "      <th>Angle</th>\n",
       "      <th></th>\n",
       "      <th></th>\n",
       "      <th></th>\n",
       "      <th></th>\n",
       "      <th></th>\n",
       "    </tr>\n",
       "  </thead>\n",
       "  <tbody>\n",
       "    <tr>\n",
       "      <th>0.9</th>\n",
       "      <td>270.0</td>\n",
       "      <td>380.0</td>\n",
       "      <td>150.0</td>\n",
       "      <td>266.666667</td>\n",
       "      <td>93.926685</td>\n",
       "    </tr>\n",
       "    <tr>\n",
       "      <th>1.1</th>\n",
       "      <td>290.0</td>\n",
       "      <td>430.0</td>\n",
       "      <td>170.0</td>\n",
       "      <td>296.666667</td>\n",
       "      <td>106.249183</td>\n",
       "    </tr>\n",
       "    <tr>\n",
       "      <th>1.3</th>\n",
       "      <td>430.0</td>\n",
       "      <td>370.0</td>\n",
       "      <td>270.0</td>\n",
       "      <td>356.666667</td>\n",
       "      <td>65.996633</td>\n",
       "    </tr>\n",
       "    <tr>\n",
       "      <th>2.2</th>\n",
       "      <td>580.0</td>\n",
       "      <td>700.0</td>\n",
       "      <td>540.0</td>\n",
       "      <td>606.666667</td>\n",
       "      <td>67.986927</td>\n",
       "    </tr>\n",
       "    <tr>\n",
       "      <th>2.7</th>\n",
       "      <td>580.0</td>\n",
       "      <td>640.0</td>\n",
       "      <td>550.0</td>\n",
       "      <td>590.000000</td>\n",
       "      <td>37.416574</td>\n",
       "    </tr>\n",
       "    <tr>\n",
       "      <th>3.1</th>\n",
       "      <td>630.0</td>\n",
       "      <td>690.0</td>\n",
       "      <td>600.0</td>\n",
       "      <td>640.000000</td>\n",
       "      <td>37.416574</td>\n",
       "    </tr>\n",
       "    <tr>\n",
       "      <th>3.6</th>\n",
       "      <td>700.0</td>\n",
       "      <td>890.0</td>\n",
       "      <td>660.0</td>\n",
       "      <td>750.000000</td>\n",
       "      <td>100.332780</td>\n",
       "    </tr>\n",
       "    <tr>\n",
       "      <th>4.0</th>\n",
       "      <td>840.0</td>\n",
       "      <td>920.0</td>\n",
       "      <td>690.0</td>\n",
       "      <td>816.666667</td>\n",
       "      <td>95.335664</td>\n",
       "    </tr>\n",
       "    <tr>\n",
       "      <th>4.9</th>\n",
       "      <td>1000.0</td>\n",
       "      <td>1300.0</td>\n",
       "      <td>950.0</td>\n",
       "      <td>1083.333333</td>\n",
       "      <td>154.560308</td>\n",
       "    </tr>\n",
       "  </tbody>\n",
       "</table>\n",
       "</div>"
      ],
      "text/plain": [
       "        Car 1   Car 2  Car 3         Mean  Standard Deviation\n",
       "Angle                                                        \n",
       "0.9     270.0   380.0  150.0   266.666667           93.926685\n",
       "1.1     290.0   430.0  170.0   296.666667          106.249183\n",
       "1.3     430.0   370.0  270.0   356.666667           65.996633\n",
       "2.2     580.0   700.0  540.0   606.666667           67.986927\n",
       "2.7     580.0   640.0  550.0   590.000000           37.416574\n",
       "3.1     630.0   690.0  600.0   640.000000           37.416574\n",
       "3.6     700.0   890.0  660.0   750.000000          100.332780\n",
       "4.0     840.0   920.0  690.0   816.666667           95.335664\n",
       "4.9    1000.0  1300.0  950.0  1083.333333          154.560308"
      ]
     },
     "execution_count": 30,
     "metadata": {},
     "output_type": "execute_result"
    }
   ],
   "source": [
    "#Sets index to Angle\n",
    "df2.set_index(\"Angle\")"
   ]
  }
 ],
 "metadata": {
  "kernelspec": {
   "display_name": "Python 3 (ipykernel)",
   "language": "python",
   "name": "python3"
  },
  "language_info": {
   "codemirror_mode": {
    "name": "ipython",
    "version": 3
   },
   "file_extension": ".py",
   "mimetype": "text/x-python",
   "name": "python",
   "nbconvert_exporter": "python",
   "pygments_lexer": "ipython3",
   "version": "3.9.7"
  }
 },
 "nbformat": 4,
 "nbformat_minor": 5
}
