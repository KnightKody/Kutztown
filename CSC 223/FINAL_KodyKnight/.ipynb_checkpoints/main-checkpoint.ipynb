{
 "cells": [
  {
   "cell_type": "markdown",
   "id": "9b422b3d",
   "metadata": {},
   "source": [
    "# Final Project Header\n",
    "- **Author:** Kody Knight\n",
    "- **Major:** Computer science\n",
    "- **Creation Date:** 5/8/2022\n",
    "- **Due Date:** 5/11/2022\n",
    "- **Course:** CSC 223\n",
    "- **Professor Name:** Patrick earl\n",
    "- **Assignment Number:** Final\n",
    "- **Filename:** Main.ipynb\n",
    "- **purpose:** to demonstraite everything learned thusfar"
   ]
  },
  {
   "cell_type": "code",
   "execution_count": 1,
   "id": "428505e5",
   "metadata": {},
   "outputs": [],
   "source": [
    "%matplotlib inline\n",
    "\n",
    "import pandas as pd\n",
    "import numpy as np\n",
    "import matplotlib.pyplot as plt"
   ]
  },
  {
   "cell_type": "markdown",
   "id": "5c0d8a24",
   "metadata": {},
   "source": [
    "# DataFrame Creation"
   ]
  },
  {
   "cell_type": "code",
   "execution_count": 39,
   "id": "10a90dc2",
   "metadata": {},
   "outputs": [
    {
     "data": {
      "text/html": [
       "<div>\n",
       "<style scoped>\n",
       "    .dataframe tbody tr th:only-of-type {\n",
       "        vertical-align: middle;\n",
       "    }\n",
       "\n",
       "    .dataframe tbody tr th {\n",
       "        vertical-align: top;\n",
       "    }\n",
       "\n",
       "    .dataframe thead th {\n",
       "        text-align: right;\n",
       "    }\n",
       "</style>\n",
       "<table border=\"1\" class=\"dataframe\">\n",
       "  <thead>\n",
       "    <tr style=\"text-align: right;\">\n",
       "      <th></th>\n",
       "      <th>Year</th>\n",
       "      <th>Donations</th>\n",
       "      <th>Attendance</th>\n",
       "      <th>Suiters</th>\n",
       "      <th>Charity</th>\n",
       "      <th>Theme</th>\n",
       "    </tr>\n",
       "  </thead>\n",
       "  <tbody>\n",
       "    <tr>\n",
       "      <th>0</th>\n",
       "      <td>2013</td>\n",
       "      <td>3000</td>\n",
       "      <td>704</td>\n",
       "      <td>185.0</td>\n",
       "      <td>Nevada Human Society</td>\n",
       "      <td>Roaring Twenties</td>\n",
       "    </tr>\n",
       "    <tr>\n",
       "      <th>1</th>\n",
       "      <td>2014</td>\n",
       "      <td>16650</td>\n",
       "      <td>1442</td>\n",
       "      <td>465.0</td>\n",
       "      <td>Safe Haven Wildlife Sanctuary</td>\n",
       "      <td>80's Pop Culture</td>\n",
       "    </tr>\n",
       "    <tr>\n",
       "      <th>2</th>\n",
       "      <td>2015</td>\n",
       "      <td>34000</td>\n",
       "      <td>2443</td>\n",
       "      <td>707.0</td>\n",
       "      <td>Safe Haven Wildlife Sanctuary</td>\n",
       "      <td>Utopia</td>\n",
       "    </tr>\n",
       "    <tr>\n",
       "      <th>3</th>\n",
       "      <td>2016</td>\n",
       "      <td>36500</td>\n",
       "      <td>3651</td>\n",
       "      <td>900.0</td>\n",
       "      <td>Safe Haven Rescure Zoo</td>\n",
       "      <td>Fallen Utopia</td>\n",
       "    </tr>\n",
       "    <tr>\n",
       "      <th>4</th>\n",
       "      <td>2017</td>\n",
       "      <td>43600</td>\n",
       "      <td>5138</td>\n",
       "      <td>1000.0</td>\n",
       "      <td>Safe Haven Wildlife Sanctuary</td>\n",
       "      <td>Story</td>\n",
       "    </tr>\n",
       "    <tr>\n",
       "      <th>5</th>\n",
       "      <td>2018</td>\n",
       "      <td>30146</td>\n",
       "      <td>5435</td>\n",
       "      <td>1300.0</td>\n",
       "      <td>Safe Haven Wildlife Sanctuary</td>\n",
       "      <td>A Musical Tail</td>\n",
       "    </tr>\n",
       "    <tr>\n",
       "      <th>6</th>\n",
       "      <td>2019</td>\n",
       "      <td>32249</td>\n",
       "      <td>5692</td>\n",
       "      <td>NaN</td>\n",
       "      <td>Safe Haven Wildlife Sanctuary</td>\n",
       "      <td>Fantasy Tabletop Role-Playing</td>\n",
       "    </tr>\n",
       "  </tbody>\n",
       "</table>\n",
       "</div>"
      ],
      "text/plain": [
       "   Year  Donations  Attendance  Suiters                        Charity  \\\n",
       "0  2013       3000         704    185.0           Nevada Human Society   \n",
       "1  2014      16650        1442    465.0  Safe Haven Wildlife Sanctuary   \n",
       "2  2015      34000        2443    707.0  Safe Haven Wildlife Sanctuary   \n",
       "3  2016      36500        3651    900.0         Safe Haven Rescure Zoo   \n",
       "4  2017      43600        5138   1000.0  Safe Haven Wildlife Sanctuary   \n",
       "5  2018      30146        5435   1300.0  Safe Haven Wildlife Sanctuary   \n",
       "6  2019      32249        5692      NaN  Safe Haven Wildlife Sanctuary   \n",
       "\n",
       "                           Theme  \n",
       "0               Roaring Twenties  \n",
       "1               80's Pop Culture  \n",
       "2                         Utopia  \n",
       "3                  Fallen Utopia  \n",
       "4                          Story  \n",
       "5                 A Musical Tail  \n",
       "6  Fantasy Tabletop Role-Playing  "
      ]
     },
     "execution_count": 39,
     "metadata": {},
     "output_type": "execute_result"
    }
   ],
   "source": [
    "AC = pd.DataFrame(pd.read_csv(\"AC.csv\"))\n",
    "BLFC = pd.DataFrame(pd.read_csv(\"BLFC.csv\"))\n",
    "EF = pd.DataFrame(pd.read_csv(\"EF.csv\"))\n",
    "FC = pd.DataFrame(pd.read_csv(\"FC.csv\"))\n",
    "FF = pd.DataFrame(pd.read_csv(\"FF.csv\"))\n",
    "FWA = pd.DataFrame(pd.read_csv(\"FWA.csv\"))\n",
    "MFF = pd.DataFrame(pd.read_csv(\"MFF.csv\"))\n",
    "MP = pd.DataFrame(pd.read_csv(\"MP.csv\"))\n",
    "# Notes:\n",
    "# MFF\n",
    "# FF\n",
    "# MP\n",
    "BLFC"
   ]
  },
  {
   "cell_type": "markdown",
   "id": "79ea8390",
   "metadata": {},
   "source": [
    "# Quantative Data"
   ]
  },
  {
   "cell_type": "code",
   "execution_count": 21,
   "id": "9527608d",
   "metadata": {},
   "outputs": [
    {
     "data": {
      "text/plain": [
       "Text(0.5, 1.0, '(Donations VS Attendance) VS Year')"
      ]
     },
     "execution_count": 21,
     "metadata": {},
     "output_type": "execute_result"
    },
    {
     "data": {
      "image/png": "[encoded data removed]",
      "text/plain": [
       "<Figure size 432x288 with 1 Axes>"
      ]
     },
     "metadata": {
      "needs_background": "light"
     },
     "output_type": "display_data"
    }
   ],
   "source": [
    "plt.barh(AC[\"Year\"],AC[\"Donations\"],color=\"lightpink\")\n",
    "plt.barh(AC[\"Year\"],AC[\"Attendance\"],color=\"peachpuff\")\n",
    "plt.xlabel(\"(Donationbs VS Attendance)\")\n",
    "plt.ylabel(\"Year\")\n",
    "plt.title(\"(Donations VS Attendance) VS Year\")"
   ]
  },
  {
   "cell_type": "markdown",
   "id": "ec1175f7",
   "metadata": {},
   "source": [
    "#### Figure 1a."
   ]
  },
  {
   "cell_type": "code",
   "execution_count": 22,
   "id": "01311965",
   "metadata": {},
   "outputs": [
    {
     "data": {
      "text/plain": [
       "Text(0.5, 1.0, '(Donations VS Attendance) VS Year')"
      ]
     },
     "execution_count": 22,
     "metadata": {},
     "output_type": "execute_result"
    },
    {
     "data": {
      "image/png": "[encoded data removed]",
      "text/plain": [
       "<Figure size 432x288 with 1 Axes>"
      ]
     },
     "metadata": {
      "needs_background": "light"
     },
     "output_type": "display_data"
    }
   ],
   "source": [
    "plt.barh(BLFC[\"Year\"],BLFC[\"Donations\"],color=\"lightpink\")\n",
    "plt.barh(BLFC[\"Year\"],BLFC[\"Attendance\"],color=\"peachpuff\")\n",
    "plt.xlabel(\"(Donations VS Attendance)\")\n",
    "plt.ylabel(\"Year\")\n",
    "plt.title(\"(Donations VS Attendance) VS Year\")"
   ]
  },
  {
   "cell_type": "markdown",
   "id": "b4170c3c",
   "metadata": {},
   "source": [
    "#### Figure 1b."
   ]
  },
  {
   "cell_type": "code",
   "execution_count": 23,
   "id": "d1ef6bc2",
   "metadata": {
    "scrolled": true
   },
   "outputs": [
    {
     "data": {
      "text/plain": [
       "Text(0.5, 1.0, '(Donations VS Attendance) VS Year')"
      ]
     },
     "execution_count": 23,
     "metadata": {},
     "output_type": "execute_result"
    },
    {
     "data": {
      "image/png": "[encoded data removed]",
      "text/plain": [
       "<Figure size 432x288 with 1 Axes>"
      ]
     },
     "metadata": {
      "needs_background": "light"
     },
     "output_type": "display_data"
    }
   ],
   "source": [
    "plt.barh(EF[\"Year\"],EF[\"Donations\"],color=\"lightpink\")\n",
    "plt.barh(EF[\"Year\"],EF[\"Attendance\"],color=\"peachpuff\")\n",
    "plt.xlabel(\"(Donations VS Attendance)\")\n",
    "plt.ylabel(\"Year\")\n",
    "plt.title(\"(Donations VS Attendance) VS Year\")"
   ]
  },
  {
   "cell_type": "markdown",
   "id": "cb85f00b",
   "metadata": {},
   "source": [
    "#### Figure 1c."
   ]
  },
  {
   "cell_type": "code",
   "execution_count": 24,
   "id": "9bb08e9f",
   "metadata": {
    "scrolled": true
   },
   "outputs": [
    {
     "data": {
      "text/plain": [
       "Text(0.5, 1.0, '(Donations VS Attendance) VS Year')"
      ]
     },
     "execution_count": 24,
     "metadata": {},
     "output_type": "execute_result"
    },
    {
     "data": {
      "image/png": "[encoded data removed]",
      "text/plain": [
       "<Figure size 432x288 with 1 Axes>"
      ]
     },
     "metadata": {
      "needs_background": "light"
     },
     "output_type": "display_data"
    }
   ],
   "source": [
    "plt.barh(FC[\"Year\"],FC[\"Donations\"],color=\"lightpink\")\n",
    "plt.barh(FC[\"Year\"],FC[\"Attendance\"],color=\"peachpuff\")\n",
    "plt.xlabel(\"(Donations VS Attendance)\")\n",
    "plt.ylabel(\"Year\")\n",
    "plt.title(\"(Donations VS Attendance) VS Year\")"
   ]
  },
  {
   "cell_type": "markdown",
   "id": "94acd635",
   "metadata": {},
   "source": [
    "#### Figure 1d."
   ]
  },
  {
   "cell_type": "code",
   "execution_count": 25,
   "id": "acca0c11",
   "metadata": {
    "scrolled": true
   },
   "outputs": [
    {
     "data": {
      "text/plain": [
       "Text(0.5, 1.0, '(Donations VS Attendance) VS Year')"
      ]
     },
     "execution_count": 25,
     "metadata": {},
     "output_type": "execute_result"
    },
    {
     "data": {
      "image/png": "[encoded data removed]",
      "text/plain": [
       "<Figure size 432x288 with 1 Axes>"
      ]
     },
     "metadata": {
      "needs_background": "light"
     },
     "output_type": "display_data"
    }
   ],
   "source": [
    "plt.barh(FF[\"Year\"],FF[\"Donations\"],color=\"lightpink\")\n",
    "plt.barh(FF[\"Year\"],FF[\"Attendance\"],color=\"peachpuff\")\n",
    "plt.xlabel(\"(Donations VS Attendance)\")\n",
    "plt.ylabel(\"Year\")\n",
    "plt.title(\"(Donations VS Attendance) VS Year\")"
   ]
  },
  {
   "cell_type": "markdown",
   "id": "524343d7",
   "metadata": {},
   "source": [
    "#### Figure 1e."
   ]
  },
  {
   "cell_type": "code",
   "execution_count": 26,
   "id": "c325971c",
   "metadata": {
    "scrolled": true
   },
   "outputs": [
    {
     "data": {
      "text/plain": [
       "Text(0.5, 1.0, '(Donations VS Attendance) VS Year')"
      ]
     },
     "execution_count": 26,
     "metadata": {},
     "output_type": "execute_result"
    },
    {
     "data": {
      "image/png": "[encoded data removed]",
      "text/plain": [
       "<Figure size 432x288 with 1 Axes>"
      ]
     },
     "metadata": {
      "needs_background": "light"
     },
     "output_type": "display_data"
    }
   ],
   "source": [
    "plt.barh(MFF[\"Year\"],MFF[\"Donations\"],color=\"lightpink\")\n",
    "plt.barh(MFF[\"Year\"],MFF[\"Attendance\"],color=\"peachpuff\")\n",
    "plt.xlabel(\"(Donations VS Attendance)\")\n",
    "plt.ylabel(\"Year\")\n",
    "plt.title(\"(Donations VS Attendance) VS Year\")"
   ]
  },
  {
   "cell_type": "markdown",
   "id": "2481bcbb",
   "metadata": {},
   "source": [
    "#### Figure 1f."
   ]
  },
  {
   "cell_type": "code",
   "execution_count": 27,
   "id": "0bda0a8d",
   "metadata": {
    "scrolled": true
   },
   "outputs": [
    {
     "data": {
      "text/plain": [
       "Text(0.5, 1.0, '(Donations VS Attendance) VS Year')"
      ]
     },
     "execution_count": 27,
     "metadata": {},
     "output_type": "execute_result"
    },
    {
     "data": {
      "image/png": "[encoded data removed]",
      "text/plain": [
       "<Figure size 432x288 with 1 Axes>"
      ]
     },
     "metadata": {
      "needs_background": "light"
     },
     "output_type": "display_data"
    }
   ],
   "source": [
    "plt.barh(MP[\"Year\"],MP[\"Donations\"],color=\"lightpink\")\n",
    "plt.barh(MP[\"Year\"],MP[\"Attendance\"],color=\"peachpuff\")\n",
    "plt.xlabel(\"(Donations VS Attendance)\")\n",
    "plt.ylabel(\"Year\")\n",
    "plt.title(\"(Donations VS Attendance) VS Year\")"
   ]
  },
  {
   "cell_type": "markdown",
   "id": "9c8b8975",
   "metadata": {},
   "source": [
    "#### Figure 1g."
   ]
  },
  {
   "cell_type": "markdown",
   "id": "a705740a",
   "metadata": {},
   "source": [
    "## Observations\n",
    "The Above Bar graphs represent the Attendance (peach) in corrolation with the donations (Pink) for the charities, from these graphs we can infer that with an attendance increase the donation amount increased as well"
   ]
  },
  {
   "cell_type": "markdown",
   "id": "0f7797a1",
   "metadata": {},
   "source": [
    "# Categorical Data"
   ]
  },
  {
   "cell_type": "code",
   "execution_count": 28,
   "id": "238b07be",
   "metadata": {},
   "outputs": [],
   "source": [
    "# donations of 2019\n",
    "Names = np.array([\"Anthrocon\",\"Big Little Fur Con\",\"EuroFurence\",\"Further Confusion\",\"Furry Feista\",\"Midwest FurFest\",\"MegaPlexcon\"])\n",
    "\n",
    "AC = AC.set_index(\"Year\")\n",
    "BLFC = BLFC.set_index(\"Year\")\n",
    "EF = EF.set_index(\"Year\")\n",
    "FC = FC.set_index(\"Year\")\n",
    "FF = FF.set_index(\"Year\")\n",
    "FWA = FWA.set_index(\"Year\")\n",
    "MFF = MFF.set_index(\"Year\")\n",
    "MP = MP.set_index(\"Year\")"
   ]
  },
  {
   "cell_type": "code",
   "execution_count": 31,
   "id": "0e2e054a",
   "metadata": {
    "scrolled": false
   },
   "outputs": [
    {
     "data": {
      "text/plain": [
       "Text(0.5, 1.0, 'Donations (2019) Per Conventions')"
      ]
     },
     "execution_count": 31,
     "metadata": {},
     "output_type": "execute_result"
    },
    {
     "data": {
      "image/png": "[encoded data removed]",
      "text/plain": [
       "<Figure size 432x288 with 1 Axes>"
      ]
     },
     "metadata": {
      "needs_background": "light"
     },
     "output_type": "display_data"
    }
   ],
   "source": [
    "Don2019 = np.array([AC[\"Donations\"][2019],BLFC[\"Donations\"][2019],EF[\"Donations\"][2019],FC[\"Donations\"][2019],FF[\"Donations\"][2019],MFF[\"Donations\"][2019],MP[\"Donations\"][2019]])\n",
    "plt.barh(Names,Don2019,color=\"lightpink\")\n",
    "plt.xlabel(\"Donations (2019)\")\n",
    "plt.ylabel(\"Conventions\")\n",
    "plt.title(\"Donations (2019) Per Conventions\")"
   ]
  },
  {
   "cell_type": "markdown",
   "id": "eb58901b",
   "metadata": {},
   "source": [
    "#### Figure 2a."
   ]
  },
  {
   "cell_type": "code",
   "execution_count": 32,
   "id": "04c956e9",
   "metadata": {
    "scrolled": true
   },
   "outputs": [
    {
     "data": {
      "text/plain": [
       "Text(0.5, 1.0, 'Attendance (2019) At Conventions')"
      ]
     },
     "execution_count": 32,
     "metadata": {},
     "output_type": "execute_result"
    },
    {
     "data": {
      "image/png": "[encoded data removed]",
      "text/plain": [
       "<Figure size 432x288 with 1 Axes>"
      ]
     },
     "metadata": {
      "needs_background": "light"
     },
     "output_type": "display_data"
    }
   ],
   "source": [
    "Att2019 = np.array([AC[\"Attendance\"][2019],BLFC[\"Attendance\"][2019],EF[\"Attendance\"][2019],FC[\"Attendance\"][2019],FF[\"Attendance\"][2019],MFF[\"Attendance\"][2019],MP[\"Attendance\"][2019]])\n",
    "plt.barh(Names,Att2019,color=\"lightpink\")\n",
    "plt.xlabel(\"Attendance (2019)\")\n",
    "plt.ylabel(\"Conventions\")\n",
    "plt.title(\"Attendance (2019) At Conventions\")"
   ]
  },
  {
   "cell_type": "markdown",
   "id": "fd76da37",
   "metadata": {},
   "source": [
    "#### Figure 2b."
   ]
  },
  {
   "cell_type": "markdown",
   "id": "8f3c0be8",
   "metadata": {},
   "source": [
    "## Observations"
   ]
  },
  {
   "cell_type": "code",
   "execution_count": null,
   "id": "b84e726e",
   "metadata": {},
   "outputs": [],
   "source": []
  },
  {
   "cell_type": "markdown",
   "id": "71afd2e3",
   "metadata": {},
   "source": [
    "# Conclusion"
   ]
  },
  {
   "cell_type": "code",
   "execution_count": null,
   "id": "28c2054a",
   "metadata": {},
   "outputs": [],
   "source": []
  }
 ],
 "metadata": {
  "kernelspec": {
   "display_name": "Python 3 (ipykernel)",
   "language": "python",
   "name": "python3"
  },
  "language_info": {
   "codemirror_mode": {
    "name": "ipython",
    "version": 3
   },
   "file_extension": ".py",
   "mimetype": "text/x-python",
   "name": "python",
   "nbconvert_exporter": "python",
   "pygments_lexer": "ipython3",
   "version": "3.9.7"
  }
 },
 "nbformat": 4,
 "nbformat_minor": 5
}
